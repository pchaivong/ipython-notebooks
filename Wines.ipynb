{
 "cells": [
  {
   "cell_type": "code",
   "execution_count": 142,
   "metadata": {
    "collapsed": true
   },
   "outputs": [],
   "source": [
    "import numpy as np\n",
    "from sklearn import svm\n",
    "from sklearn.metrics import accuracy_score\n",
    "import urllib\n",
    "\n",
    "from scipy.sparse import coo_matrix\n",
    "from sklearn.utils import shuffle\n",
    "\n",
    "from sklearn import preprocessing\n",
    "\n",
    "import matplotlib.pyplot as plt\n",
    "%matplotlib inline\n",
    "\n",
    "#Load wines data\n",
    "rawdata = urllib.urlopen('https://archive.ics.uci.edu/ml/machine-learning-databases/wine/wine.data')\n",
    "dataset = np.loadtxt(rawdata, delimiter=\",\")"
   ]
  },
  {
   "cell_type": "code",
   "execution_count": 143,
   "metadata": {
    "collapsed": false
   },
   "outputs": [
    {
     "name": "stdout",
     "output_type": "stream",
     "text": [
      "(178, 14)\n"
     ]
    }
   ],
   "source": [
    "print(dataset.shape)"
   ]
  },
  {
   "cell_type": "code",
   "execution_count": 144,
   "metadata": {
    "collapsed": false
   },
   "outputs": [],
   "source": [
    "# Get first column to be target; the rest are features\n",
    "T = dataset.T\n",
    "target = T[0]\n",
    "data = T[1:].T"
   ]
  },
  {
   "cell_type": "code",
   "execution_count": 145,
   "metadata": {
    "collapsed": false
   },
   "outputs": [],
   "source": [
    "# Shuffle data\n",
    "x_sparse = coo_matrix(data)\n",
    "x, x_sparse, y = shuffle(data, x_sparse, target, random_state=0)"
   ]
  },
  {
   "cell_type": "code",
   "execution_count": 146,
   "metadata": {
    "collapsed": false
   },
   "outputs": [
    {
     "data": {
      "text/plain": [
       "array([[ 0.91333271, -0.59815632, -0.42590882, ..., -0.16430337,\n",
       "         0.83096074,  0.99708646],\n",
       "       [-0.26016901,  0.29950682,  0.41481959, ..., -2.09473241,\n",
       "        -1.61256533, -0.84991991],\n",
       "       [-0.77898029, -1.08289442, -0.75488951, ...,  1.15189824,\n",
       "         0.36485461, -1.04098953],\n",
       "       ..., \n",
       "       [-0.71721705, -0.65201611, -0.64522928, ...,  0.44992405,\n",
       "         0.49197446, -1.27982657],\n",
       "       [ 1.1109751 , -0.58917969, -0.90110314, ..., -0.20817676,\n",
       "         1.01457831,  0.75824943],\n",
       "       [ 1.43214399,  0.15588072,  0.41481959, ..., -1.48050498,\n",
       "        -1.27357906, -0.27671104]])"
      ]
     },
     "execution_count": 146,
     "metadata": {},
     "output_type": "execute_result"
    }
   ],
   "source": [
    "# Perform preprocessing by scaling; without it, accuracy is > 0.3\n",
    "x = preprocessing.scale(x)\n",
    "x"
   ]
  },
  {
   "cell_type": "code",
   "execution_count": 147,
   "metadata": {
    "collapsed": true
   },
   "outputs": [],
   "source": [
    "# Setup number of training data\n",
    "n_train = 120"
   ]
  },
  {
   "cell_type": "code",
   "execution_count": 148,
   "metadata": {
    "collapsed": false
   },
   "outputs": [],
   "source": [
    "clf = svm.SVC(decision_function_shape='ovo')\n",
    "pred = clf.fit(x[:n_train], y[:n_train]).predict(x[n_train:])"
   ]
  },
  {
   "cell_type": "code",
   "execution_count": 149,
   "metadata": {
    "collapsed": false
   },
   "outputs": [
    {
     "data": {
      "text/plain": [
       "array([ 2.,  2.,  1.,  1.,  1.,  3.,  2.,  1.,  2.,  3.,  1.,  2.,  3.,\n",
       "        3.,  1.,  1.,  3.,  1.,  3.,  2.,  1.,  1.,  2.,  1.,  3.,  2.,\n",
       "        3.,  1.,  3.,  3.,  3.,  1.,  2.,  2.,  2.,  2.,  3.,  3.,  2.,\n",
       "        2.,  2.,  2.,  3.,  3.,  1.,  1.,  3.,  2.,  2.,  2.,  1.,  1.,\n",
       "        1.,  2.,  2.,  2.,  1.,  3.])"
      ]
     },
     "execution_count": 149,
     "metadata": {},
     "output_type": "execute_result"
    }
   ],
   "source": [
    "pred"
   ]
  },
  {
   "cell_type": "code",
   "execution_count": 150,
   "metadata": {
    "collapsed": false
   },
   "outputs": [
    {
     "data": {
      "text/plain": [
       "array([ 2.,  2.,  1.,  1.,  1.,  3.,  2.,  1.,  2.,  3.,  1.,  2.,  3.,\n",
       "        3.,  1.,  1.,  3.,  1.,  3.,  2.,  1.,  1.,  2.,  1.,  3.,  2.,\n",
       "        3.,  1.,  3.,  3.,  3.,  1.,  2.,  2.,  2.,  2.,  3.,  3.,  2.,\n",
       "        2.,  1.,  2.,  3.,  3.,  1.,  1.,  3.,  2.,  2.,  2.,  1.,  1.,\n",
       "        1.,  2.,  2.,  2.,  1.,  3.])"
      ]
     },
     "execution_count": 150,
     "metadata": {},
     "output_type": "execute_result"
    }
   ],
   "source": [
    "y[n_train:]"
   ]
  },
  {
   "cell_type": "code",
   "execution_count": 151,
   "metadata": {
    "collapsed": false
   },
   "outputs": [
    {
     "data": {
      "text/plain": [
       "0.98275862068965514"
      ]
     },
     "execution_count": 151,
     "metadata": {},
     "output_type": "execute_result"
    }
   ],
   "source": [
    "accuracy_score(y[n_train:], pred)"
   ]
  },
  {
   "cell_type": "code",
   "execution_count": null,
   "metadata": {
    "collapsed": true
   },
   "outputs": [],
   "source": []
  }
 ],
 "metadata": {
  "kernelspec": {
   "display_name": "Python 2",
   "language": "python",
   "name": "python2"
  },
  "language_info": {
   "codemirror_mode": {
    "name": "ipython",
    "version": 2
   },
   "file_extension": ".py",
   "mimetype": "text/x-python",
   "name": "python",
   "nbconvert_exporter": "python",
   "pygments_lexer": "ipython2",
   "version": "2.7.12"
  }
 },
 "nbformat": 4,
 "nbformat_minor": 0
}
